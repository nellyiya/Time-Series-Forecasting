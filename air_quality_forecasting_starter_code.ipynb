{
 "cells": [
  {
   "cell_type": "markdown",
   "id": "566b7ba4",
   "metadata": {},
   "source": [
    "# Beijing Air Quality Forecasting Starter Notebook"
   ]
  },
  {
   "cell_type": "code",
   "execution_count": 1,
   "id": "b23d9d9e",
   "metadata": {},
   "outputs": [],
   "source": [
    "# Import necessary libraries\n",
    "import os, random\n",
    "import numpy as np\n",
    "import pandas as pd\n",
    "from math import sqrt\n",
    "from sklearn.preprocessing import StandardScaler\n",
    "from sklearn.metrics import mean_squared_error\n",
    "from tensorflow.keras.models import Sequential\n",
    "from tensorflow.keras.layers import LSTM, GRU, Dense, Dropout, Bidirectional\n",
    "from tensorflow.keras.callbacks import EarlyStopping, ModelCheckpoint\n",
    "import tensorflow as tf\n",
    "import seaborn as sns\n",
    "import matplotlib.pyplot as plt\n",
    "\n"
   ]
  },
  {
   "cell_type": "code",
   "execution_count": 2,
   "id": "c7db60cb",
   "metadata": {},
   "outputs": [],
   "source": [
    "# Reproducibility\n",
    "SEED = 42\n",
    "os.environ['PYTHONHASHSEED'] = str(SEED)\n",
    "random.seed(SEED)\n",
    "np.random.seed(SEED)\n",
    "tf.random.set_seed(SEED)\n",
    "\n",
    "# File paths\n",
    "DATA_DIR   = 'data'\n",
    "TRAIN_PATH = os.path.join(DATA_DIR, 'train.csv')\n",
    "TEST_PATH  = os.path.join(DATA_DIR, 'test.csv')\n",
    "SAMPLE_PATH= os.path.join(DATA_DIR, 'sample_submission.csv')\n",
    "\n",
    "# Hyperparameters\n",
    "SEQ_LEN   = 48    # sequence length (lookback window)\n",
    "BATCH_SIZE= 32\n",
    "EPOCHS    = 100\n",
    "VERBOSE   = 2"
   ]
  },
  {
   "cell_type": "markdown",
   "id": "26fafe49",
   "metadata": {},
   "source": [
    "Load and Clean Data"
   ]
  },
  {
   "cell_type": "code",
   "execution_count": 3,
   "id": "f45a5249",
   "metadata": {},
   "outputs": [],
   "source": [
    "# Mount Google Drive to access datasets\n",
    "#from google.colab import drive\n",
    "#drive.mount('/content/drive')\n"
   ]
  },
  {
   "cell_type": "code",
   "execution_count": 4,
   "id": "32cafdf9",
   "metadata": {},
   "outputs": [],
   "source": [
    "# Load the datasets\n",
    "# Ensure train.csv and test.csv are saved in your Google Drive in the same folder.\n",
    "# Replace the file paths below with the actual paths to your dataset.\n",
    "train = pd.read_csv('data/train.csv')\n",
    "test = pd.read_csv('data/test.csv')\n",
    "submission = pd.read_csv('data/sample_submission.csv')"
   ]
  },
  {
   "cell_type": "code",
   "execution_count": 5,
   "id": "88e3a674",
   "metadata": {},
   "outputs": [],
   "source": [
    "# Parse datetime if present\n",
    "if 'datetime' in train.columns:\n",
    "    train['datetime'] = pd.to_datetime(train['datetime'])\n",
    "if 'datetime' in test.columns:\n",
    "    test['datetime'] = pd.to_datetime(test['datetime'])\n",
    "\n",
    "# Drop index-like column if present\n",
    "for df in (train, test):\n",
    "    if 'No' in df.columns:\n",
    "        df.drop(columns=['No'], inplace=True)"
   ]
  },
  {
   "cell_type": "markdown",
   "id": "9ca98476",
   "metadata": {},
   "source": [
    "# Explore the training data\n",
    "\n",
    "In this sections explore your dataset with appropiate statistics and visualisations to understand your better. Ensure that you explain output of every code cell and what it entails."
   ]
  },
  {
   "cell_type": "code",
   "execution_count": 6,
   "id": "191f684a",
   "metadata": {},
   "outputs": [
    {
     "name": "stdout",
     "output_type": "stream",
     "text": [
      "Training Data Overview:\n"
     ]
    },
    {
     "data": {
      "text/html": [
       "<div>\n",
       "<style scoped>\n",
       "    .dataframe tbody tr th:only-of-type {\n",
       "        vertical-align: middle;\n",
       "    }\n",
       "\n",
       "    .dataframe tbody tr th {\n",
       "        vertical-align: top;\n",
       "    }\n",
       "\n",
       "    .dataframe thead th {\n",
       "        text-align: right;\n",
       "    }\n",
       "</style>\n",
       "<table border=\"1\" class=\"dataframe\">\n",
       "  <thead>\n",
       "    <tr style=\"text-align: right;\">\n",
       "      <th></th>\n",
       "      <th>DEWP</th>\n",
       "      <th>TEMP</th>\n",
       "      <th>PRES</th>\n",
       "      <th>Iws</th>\n",
       "      <th>Is</th>\n",
       "      <th>Ir</th>\n",
       "      <th>datetime</th>\n",
       "      <th>cbwd_NW</th>\n",
       "      <th>cbwd_SE</th>\n",
       "      <th>cbwd_cv</th>\n",
       "      <th>pm2.5</th>\n",
       "    </tr>\n",
       "  </thead>\n",
       "  <tbody>\n",
       "    <tr>\n",
       "      <th>0</th>\n",
       "      <td>-1.580878</td>\n",
       "      <td>-1.922250</td>\n",
       "      <td>0.443328</td>\n",
       "      <td>-0.441894</td>\n",
       "      <td>-0.069353</td>\n",
       "      <td>-0.137667</td>\n",
       "      <td>2010-01-01 00:00:00</td>\n",
       "      <td>1.448138</td>\n",
       "      <td>-0.732019</td>\n",
       "      <td>-0.522096</td>\n",
       "      <td>NaN</td>\n",
       "    </tr>\n",
       "    <tr>\n",
       "      <th>1</th>\n",
       "      <td>-1.580878</td>\n",
       "      <td>-2.004228</td>\n",
       "      <td>0.345943</td>\n",
       "      <td>-0.379306</td>\n",
       "      <td>-0.069353</td>\n",
       "      <td>-0.137667</td>\n",
       "      <td>2010-01-01 01:00:00</td>\n",
       "      <td>1.448138</td>\n",
       "      <td>-0.732019</td>\n",
       "      <td>-0.522096</td>\n",
       "      <td>NaN</td>\n",
       "    </tr>\n",
       "    <tr>\n",
       "      <th>2</th>\n",
       "      <td>-1.580878</td>\n",
       "      <td>-1.922250</td>\n",
       "      <td>0.248559</td>\n",
       "      <td>-0.343514</td>\n",
       "      <td>-0.069353</td>\n",
       "      <td>-0.137667</td>\n",
       "      <td>2010-01-01 02:00:00</td>\n",
       "      <td>1.448138</td>\n",
       "      <td>-0.732019</td>\n",
       "      <td>-0.522096</td>\n",
       "      <td>NaN</td>\n",
       "    </tr>\n",
       "    <tr>\n",
       "      <th>3</th>\n",
       "      <td>-1.580878</td>\n",
       "      <td>-2.168183</td>\n",
       "      <td>0.248559</td>\n",
       "      <td>-0.280926</td>\n",
       "      <td>-0.069353</td>\n",
       "      <td>-0.137667</td>\n",
       "      <td>2010-01-01 03:00:00</td>\n",
       "      <td>1.448138</td>\n",
       "      <td>-0.732019</td>\n",
       "      <td>-0.522096</td>\n",
       "      <td>NaN</td>\n",
       "    </tr>\n",
       "    <tr>\n",
       "      <th>4</th>\n",
       "      <td>-1.511594</td>\n",
       "      <td>-2.004228</td>\n",
       "      <td>0.151174</td>\n",
       "      <td>-0.218339</td>\n",
       "      <td>-0.069353</td>\n",
       "      <td>-0.137667</td>\n",
       "      <td>2010-01-01 04:00:00</td>\n",
       "      <td>1.448138</td>\n",
       "      <td>-0.732019</td>\n",
       "      <td>-0.522096</td>\n",
       "      <td>NaN</td>\n",
       "    </tr>\n",
       "  </tbody>\n",
       "</table>\n",
       "</div>"
      ],
      "text/plain": [
       "       DEWP      TEMP      PRES       Iws        Is        Ir  \\\n",
       "0 -1.580878 -1.922250  0.443328 -0.441894 -0.069353 -0.137667   \n",
       "1 -1.580878 -2.004228  0.345943 -0.379306 -0.069353 -0.137667   \n",
       "2 -1.580878 -1.922250  0.248559 -0.343514 -0.069353 -0.137667   \n",
       "3 -1.580878 -2.168183  0.248559 -0.280926 -0.069353 -0.137667   \n",
       "4 -1.511594 -2.004228  0.151174 -0.218339 -0.069353 -0.137667   \n",
       "\n",
       "             datetime   cbwd_NW   cbwd_SE   cbwd_cv  pm2.5  \n",
       "0 2010-01-01 00:00:00  1.448138 -0.732019 -0.522096    NaN  \n",
       "1 2010-01-01 01:00:00  1.448138 -0.732019 -0.522096    NaN  \n",
       "2 2010-01-01 02:00:00  1.448138 -0.732019 -0.522096    NaN  \n",
       "3 2010-01-01 03:00:00  1.448138 -0.732019 -0.522096    NaN  \n",
       "4 2010-01-01 04:00:00  1.448138 -0.732019 -0.522096    NaN  "
      ]
     },
     "execution_count": 6,
     "metadata": {},
     "output_type": "execute_result"
    }
   ],
   "source": [
    "# Inspecting the first few rows of the dataset to understand its structure.\n",
    "print(\"Training Data Overview:\")\n",
    "train.head()"
   ]
  },
  {
   "cell_type": "code",
   "execution_count": 7,
   "id": "7a3f12a0",
   "metadata": {},
   "outputs": [
    {
     "data": {
      "text/plain": [
       "Index(['DEWP', 'TEMP', 'PRES', 'Iws', 'Is', 'Ir', 'datetime', 'cbwd_NW',\n",
       "       'cbwd_SE', 'cbwd_cv', 'pm2.5'],\n",
       "      dtype='object')"
      ]
     },
     "execution_count": 7,
     "metadata": {},
     "output_type": "execute_result"
    }
   ],
   "source": [
    "train.columns"
   ]
  },
  {
   "cell_type": "code",
   "execution_count": 8,
   "id": "2fd10c33",
   "metadata": {},
   "outputs": [],
   "source": [
    "# Ensure 'datetime' column is in datetime format\n",
    "train['datetime'] = pd.to_datetime(train['datetime'])\n",
    "\n",
    "test['datetime'] = pd.to_datetime(test['datetime'])\n",
    "\n",
    "# Set the 'datetime' column as the index for better time-series handling\n",
    "train.set_index('datetime', inplace=True)\n",
    "# val.set_index('datetime', inplace=True)\n",
    "test.set_index('datetime', inplace=True)\n"
   ]
  },
  {
   "cell_type": "markdown",
   "id": "c68fc185",
   "metadata": {},
   "source": [
    "# Handle missing values\n",
    "\n",
    "\n",
    "- Check the dataset for missing values and decide how to handle them.\n",
    "- In this example, missing values are filled with the mean. You can experiment with other strategies."
   ]
  },
  {
   "cell_type": "code",
   "execution_count": 9,
   "id": "94b510a3",
   "metadata": {},
   "outputs": [],
   "source": [
    "train.fillna(train.mean(), inplace=True)\n",
    "test.fillna(test.mean(), inplace=True)\n"
   ]
  },
  {
   "cell_type": "code",
   "execution_count": 10,
   "id": "d5e33da5",
   "metadata": {},
   "outputs": [],
   "source": [
    "# === Safe missing-value handling (numeric only) ===\n",
    "num_train_cols = train.select_dtypes(include=[np.number]).columns.tolist()\n",
    "num_test_cols  = test.select_dtypes(include=[np.number]).columns.tolist()\n",
    "\n",
    "train[num_train_cols] = train[num_train_cols].fillna(train[num_train_cols].mean())\n",
    "test[num_test_cols]   = test[num_test_cols].fillna(test[num_test_cols].mean())\n"
   ]
  },
  {
   "cell_type": "markdown",
   "id": "1a49b19a",
   "metadata": {},
   "source": [
    "Feature Engineering"
   ]
  },
  {
   "cell_type": "code",
   "execution_count": 11,
   "id": "18887458",
   "metadata": {},
   "outputs": [
    {
     "name": "stdout",
     "output_type": "stream",
     "text": [
      "Feature columns (9): ['DEWP', 'TEMP', 'PRES', 'Iws', 'Is', 'Ir', 'cbwd_NW', 'cbwd_SE', 'cbwd_cv']\n"
     ]
    }
   ],
   "source": [
    "# === Categorical / engineered features ===\n",
    "cat_cols = [c for c in train.columns if train[c].dtype == 'object' and c != 'datetime']\n",
    "if len(cat_cols) > 0:\n",
    "    train = pd.get_dummies(train, columns=cat_cols, drop_first=True)\n",
    "    test  = pd.get_dummies(test, columns=cat_cols, drop_first=True)\n",
    "\n",
    "# Align test to train features\n",
    "feature_cols = [c for c in train.columns if c not in ('datetime', 'pm2.5')]\n",
    "test = test.reindex(columns=feature_cols, fill_value=0)\n",
    "\n",
    "print(f\"Feature columns ({len(feature_cols)}): {feature_cols[:10]}{'...' if len(feature_cols)>10 else ''}\")\n"
   ]
  },
  {
   "cell_type": "code",
   "execution_count": 12,
   "id": "81adfd20",
   "metadata": {},
   "outputs": [
    {
     "data": {
      "image/png": "[encoded data removed]",
      "text/plain": [
       "<Figure size 1400x500 with 1 Axes>"
      ]
     },
     "metadata": {},
     "output_type": "display_data"
    }
   ],
   "source": [
    "# Plot PM2.5 over time\n",
    "plt.figure(figsize=(14,5))\n",
    "plt.plot(train.index, train['pm2.5'], label=\"PM2.5\")\n",
    "plt.title(\"PM2.5 Concentration Over Time\")\n",
    "plt.xlabel(\"Date\")\n",
    "plt.ylabel(\"PM2.5\")\n",
    "plt.legend()\n",
    "plt.show()"
   ]
  },
  {
   "cell_type": "code",
   "execution_count": 13,
   "id": "aa50abe0",
   "metadata": {},
   "outputs": [],
   "source": [
    "drop_cols = ['pm2.5']\n",
    "if 'No' in train.columns:\n",
    "    drop_cols.append('No')\n",
    "\n",
    "X_train = train.drop(drop_cols, axis=1)\n",
    "y_train = train['pm2.5']\n"
   ]
  },
  {
   "cell_type": "code",
   "execution_count": 14,
   "id": "2e979bc2",
   "metadata": {},
   "outputs": [
    {
     "data": {
      "image/png": "[encoded data removed]",
      "text/plain": [
       "<Figure size 800x500 with 1 Axes>"
      ]
     },
     "metadata": {},
     "output_type": "display_data"
    }
   ],
   "source": [
    "# Distribution of PM2.5\n",
    "plt.figure(figsize=(8,5))\n",
    "sns.histplot(train['pm2.5'], bins=50, kde=True)\n",
    "plt.title(\"PM2.5 Distribution\")\n",
    "plt.show()"
   ]
  },
  {
   "cell_type": "code",
   "execution_count": 15,
   "id": "bf31746d",
   "metadata": {},
   "outputs": [
    {
     "data": {
      "image/png": "[encoded data removed]",
      "text/plain": [
       "<Figure size 1200x800 with 2 Axes>"
      ]
     },
     "metadata": {},
     "output_type": "display_data"
    }
   ],
   "source": [
    "#  Correlation Heatmap\n",
    "\n",
    "plt.figure(figsize=(12,8))\n",
    "sns.heatmap(train.corr(), annot=True, fmt=\".2f\")\n",
    "plt.title(\"Feature Correlation Heatmap\")\n",
    "plt.show()\n"
   ]
  },
  {
   "cell_type": "markdown",
   "id": "05261215",
   "metadata": {},
   "source": [
    "# Separate features and target\n",
    "\n",
    "- Feel free to trop any non-essential columns like that you think might not contribute to modeling."
   ]
  },
  {
   "cell_type": "code",
   "execution_count": 16,
   "id": "0a0e8157",
   "metadata": {},
   "outputs": [],
   "source": [
    "# === Scaling ===\n",
    "X_scaler = StandardScaler()\n",
    "y_scaler = StandardScaler()\n",
    "\n",
    "X_train_all = X_scaler.fit_transform(train[feature_cols].values)\n",
    "X_test_all  = X_scaler.transform(test[feature_cols].values)\n",
    "\n",
    "y_train_all     = train['pm2.5'].values.reshape(-1,1)\n",
    "y_train_scaled  = y_scaler.fit_transform(y_train_all).flatten()\n",
    "\n",
    "assert X_train_all.shape[0] == train.shape[0]\n"
   ]
  },
  {
   "cell_type": "markdown",
   "id": "b7155c2c",
   "metadata": {},
   "source": [
    "Make Sequences & Split"
   ]
  },
  {
   "cell_type": "code",
   "execution_count": 17,
   "id": "11e200b0",
   "metadata": {},
   "outputs": [
    {
     "name": "stdout",
     "output_type": "stream",
     "text": [
      "X_seq shape: (30628, 48, 9) y_seq shape: (30628,)\n",
      "Train seqs: (27565, 48, 9) Val seqs: (3063, 48, 9)\n"
     ]
    }
   ],
   "source": [
    "\n",
    "def make_sequences(X, y, seq_len):\n",
    "    Xs, ys = [], []\n",
    "    for i in range(len(X) - seq_len):\n",
    "        Xs.append(X[i:i+seq_len])\n",
    "        ys.append(y[i+seq_len])\n",
    "    return np.array(Xs), np.array(ys)\n",
    "\n",
    "if len(X_train_all) <= SEQ_LEN:\n",
    "    raise ValueError(\"Not enough rows to create sequences. Decrease SEQ_LEN.\")\n",
    "\n",
    "X_seq, y_seq = make_sequences(X_train_all, y_train_scaled, SEQ_LEN)\n",
    "print(\"X_seq shape:\", X_seq.shape, \"y_seq shape:\", y_seq.shape)\n",
    "\n",
    "# Train/val split (time-based)\n",
    "split_idx = int(0.90 * len(X_seq))\n",
    "X_tr, X_val = X_seq[:split_idx], X_seq[split_idx:]\n",
    "y_tr, y_val = y_seq[:split_idx], y_seq[split_idx:]\n",
    "print(\"Train seqs:\", X_tr.shape, \"Val seqs:\", X_val.shape)\n"
   ]
  },
  {
   "cell_type": "markdown",
   "id": "50c5368e",
   "metadata": {},
   "source": [
    "# Build model\n",
    "\n",
    "\n",
    "\n",
    "The code defines three neural network models—LSTM, Bidirectional LSTM, and GRU—with dropout regularization and the Adam optimizer for time series forecasting. A training helper function is used to train each model with early stopping and model checkpointing, evaluating the validation RMSE after training. Three models are then trained sequentially, with their trained instances, training histories, and validation RMSE scores saved for comparison and further analysis."
   ]
  },
  {
   "cell_type": "code",
   "execution_count": 18,
   "id": "fb960468",
   "metadata": {},
   "outputs": [],
   "source": [
    "\n",
    "def build_lstm(inp_shape, units=(128,64), dropout=0.3, lr=5e-4):\n",
    "    model = Sequential([\n",
    "        LSTM(units[0], return_sequences=True, input_shape=inp_shape),\n",
    "        Dropout(dropout),\n",
    "        LSTM(units[1]),\n",
    "        Dropout(dropout),\n",
    "        Dense(32, activation='relu'),\n",
    "        Dense(1)\n",
    "    ])\n",
    "    model.compile(optimizer=tf.keras.optimizers.Adam(learning_rate=lr), loss='mse')\n",
    "    return model\n",
    "\n",
    "def build_bilstm(inp_shape, units=(96,48), dropout=0.3, lr=5e-4):\n",
    "    model = Sequential([\n",
    "        Bidirectional(LSTM(units[0], return_sequences=True), input_shape=inp_shape),\n",
    "        Dropout(dropout),\n",
    "        Bidirectional(LSTM(units[1])),\n",
    "        Dropout(dropout),\n",
    "        Dense(32, activation='relu'),\n",
    "        Dense(1)\n",
    "    ])\n",
    "    model.compile(optimizer=tf.keras.optimizers.Adam(learning_rate=lr), loss='mse')\n",
    "    return model\n",
    "\n",
    "def build_gru(inp_shape, units=(128,64), dropout=0.25, lr=1e-3):\n",
    "    model = Sequential([\n",
    "        GRU(units[0], return_sequences=True, input_shape=inp_shape),\n",
    "        Dropout(dropout),\n",
    "        GRU(units[1]),\n",
    "        Dropout(dropout),\n",
    "        Dense(32, activation='relu'),\n",
    "        Dense(1)\n",
    "    ])\n",
    "    model.compile(optimizer=tf.keras.optimizers.Adam(learning_rate=lr), loss='mse')\n",
    "    return model\n"
   ]
  },
  {
   "cell_type": "markdown",
   "id": "bda1a462",
   "metadata": {},
   "source": [
    "Training Function & Train Three Models"
   ]
  },
  {
   "cell_type": "code",
   "execution_count": 19,
   "id": "cbc706e0",
   "metadata": {},
   "outputs": [
    {
     "name": "stderr",
     "output_type": "stream",
     "text": [
      "c:\\Users\\Djafari\\AppData\\Local\\Programs\\Python\\Python312\\Lib\\site-packages\\keras\\src\\layers\\rnn\\rnn.py:199: UserWarning: Do not pass an `input_shape`/`input_dim` argument to a layer. When using Sequential models, prefer using an `Input(shape)` object as the first layer in the model instead.\n",
      "  super().__init__(**kwargs)\n"
     ]
    },
    {
     "name": "stdout",
     "output_type": "stream",
     "text": [
      "Epoch 1/100\n"
     ]
    },
    {
     "name": "stderr",
     "output_type": "stream",
     "text": [
      "WARNING:absl:You are saving your model as an HDF5 file via `model.save()` or `keras.saving.save_model(model)`. This file format is considered legacy. We recommend using instead the native Keras format, e.g. `model.save('my_model.keras')` or `keras.saving.save_model(model, 'my_model.keras')`. \n"
     ]
    },
    {
     "name": "stdout",
     "output_type": "stream",
     "text": [
      "862/862 - 36s - 42ms/step - loss: 0.5416 - val_loss: 0.5689\n",
      "Epoch 2/100\n"
     ]
    },
    {
     "name": "stderr",
     "output_type": "stream",
     "text": [
      "WARNING:absl:You are saving your model as an HDF5 file via `model.save()` or `keras.saving.save_model(model)`. This file format is considered legacy. We recommend using instead the native Keras format, e.g. `model.save('my_model.keras')` or `keras.saving.save_model(model, 'my_model.keras')`. \n"
     ]
    },
    {
     "name": "stdout",
     "output_type": "stream",
     "text": [
      "862/862 - 32s - 37ms/step - loss: 0.4500 - val_loss: 0.5071\n",
      "Epoch 3/100\n"
     ]
    },
    {
     "name": "stderr",
     "output_type": "stream",
     "text": [
      "WARNING:absl:You are saving your model as an HDF5 file via `model.save()` or `keras.saving.save_model(model)`. This file format is considered legacy. We recommend using instead the native Keras format, e.g. `model.save('my_model.keras')` or `keras.saving.save_model(model, 'my_model.keras')`. \n"
     ]
    },
    {
     "name": "stdout",
     "output_type": "stream",
     "text": [
      "862/862 - 48s - 56ms/step - loss: 0.3963 - val_loss: 0.4777\n",
      "Epoch 4/100\n",
      "862/862 - 56s - 65ms/step - loss: 0.3569 - val_loss: 0.5055\n",
      "Epoch 5/100\n",
      "862/862 - 49s - 57ms/step - loss: 0.3260 - val_loss: 0.5305\n",
      "Epoch 6/100\n",
      "862/862 - 50s - 58ms/step - loss: 0.2929 - val_loss: 0.5469\n",
      "Epoch 7/100\n",
      "862/862 - 57s - 66ms/step - loss: 0.2546 - val_loss: 0.5723\n",
      "Epoch 8/100\n",
      "862/862 - 57s - 67ms/step - loss: 0.2320 - val_loss: 0.5797\n",
      "Epoch 9/100\n",
      "862/862 - 58s - 67ms/step - loss: 0.2115 - val_loss: 0.5275\n",
      "Epoch 10/100\n",
      "862/862 - 57s - 67ms/step - loss: 0.1956 - val_loss: 0.5692\n",
      "Epoch 11/100\n",
      "862/862 - 51s - 59ms/step - loss: 0.1816 - val_loss: 0.5291\n",
      "Epoch 12/100\n",
      "862/862 - 55s - 63ms/step - loss: 0.1680 - val_loss: 0.5607\n",
      "Epoch 13/100\n",
      "862/862 - 59s - 68ms/step - loss: 0.1578 - val_loss: 0.5593\n",
      "Epoch 13: early stopping\n",
      "\u001b[1m96/96\u001b[0m \u001b[32m━━━━━━━━━━━━━━━━━━━━\u001b[0m\u001b[37m\u001b[0m \u001b[1m4s\u001b[0m 35ms/step\n",
      "Model model_a validation RMSE (real units): 62.3301\n"
     ]
    },
    {
     "name": "stderr",
     "output_type": "stream",
     "text": [
      "c:\\Users\\Djafari\\AppData\\Local\\Programs\\Python\\Python312\\Lib\\site-packages\\keras\\src\\layers\\rnn\\bidirectional.py:107: UserWarning: Do not pass an `input_shape`/`input_dim` argument to a layer. When using Sequential models, prefer using an `Input(shape)` object as the first layer in the model instead.\n",
      "  super().__init__(**kwargs)\n"
     ]
    },
    {
     "name": "stdout",
     "output_type": "stream",
     "text": [
      "Epoch 1/100\n"
     ]
    },
    {
     "name": "stderr",
     "output_type": "stream",
     "text": [
      "WARNING:absl:You are saving your model as an HDF5 file via `model.save()` or `keras.saving.save_model(model)`. This file format is considered legacy. We recommend using instead the native Keras format, e.g. `model.save('my_model.keras')` or `keras.saving.save_model(model, 'my_model.keras')`. \n"
     ]
    },
    {
     "name": "stdout",
     "output_type": "stream",
     "text": [
      "862/862 - 58s - 67ms/step - loss: 0.5048 - val_loss: 0.4471\n",
      "Epoch 2/100\n",
      "862/862 - 46s - 53ms/step - loss: 0.4091 - val_loss: 0.4495\n",
      "Epoch 3/100\n",
      "862/862 - 53s - 61ms/step - loss: 0.3485 - val_loss: 0.4989\n",
      "Epoch 4/100\n",
      "862/862 - 49s - 56ms/step - loss: 0.3125 - val_loss: 0.5216\n",
      "Epoch 5/100\n",
      "862/862 - 47s - 54ms/step - loss: 0.2761 - val_loss: 0.5473\n",
      "Epoch 6/100\n",
      "862/862 - 46s - 53ms/step - loss: 0.2503 - val_loss: 0.5211\n",
      "Epoch 7/100\n",
      "862/862 - 47s - 54ms/step - loss: 0.2271 - val_loss: 0.5278\n",
      "Epoch 8/100\n",
      "862/862 - 44s - 51ms/step - loss: 0.2047 - val_loss: 0.5474\n",
      "Epoch 9/100\n",
      "862/862 - 45s - 52ms/step - loss: 0.1890 - val_loss: 0.5459\n",
      "Epoch 10/100\n",
      "862/862 - 46s - 53ms/step - loss: 0.1730 - val_loss: 0.5940\n",
      "Epoch 11/100\n",
      "862/862 - 40s - 46ms/step - loss: 0.1630 - val_loss: 0.5805\n",
      "Epoch 11: early stopping\n",
      "\u001b[1m96/96\u001b[0m \u001b[32m━━━━━━━━━━━━━━━━━━━━\u001b[0m\u001b[37m\u001b[0m \u001b[1m2s\u001b[0m 16ms/step\n",
      "Model model_b validation RMSE (real units): 60.2963\n",
      "Epoch 1/100\n"
     ]
    },
    {
     "name": "stderr",
     "output_type": "stream",
     "text": [
      "c:\\Users\\Djafari\\AppData\\Local\\Programs\\Python\\Python312\\Lib\\site-packages\\keras\\src\\layers\\rnn\\rnn.py:199: UserWarning: Do not pass an `input_shape`/`input_dim` argument to a layer. When using Sequential models, prefer using an `Input(shape)` object as the first layer in the model instead.\n",
      "  super().__init__(**kwargs)\n",
      "WARNING:absl:You are saving your model as an HDF5 file via `model.save()` or `keras.saving.save_model(model)`. This file format is considered legacy. We recommend using instead the native Keras format, e.g. `model.save('my_model.keras')` or `keras.saving.save_model(model, 'my_model.keras')`. \n"
     ]
    },
    {
     "name": "stdout",
     "output_type": "stream",
     "text": [
      "862/862 - 33s - 38ms/step - loss: 0.5455 - val_loss: 0.5133\n",
      "Epoch 2/100\n"
     ]
    },
    {
     "name": "stderr",
     "output_type": "stream",
     "text": [
      "WARNING:absl:You are saving your model as an HDF5 file via `model.save()` or `keras.saving.save_model(model)`. This file format is considered legacy. We recommend using instead the native Keras format, e.g. `model.save('my_model.keras')` or `keras.saving.save_model(model, 'my_model.keras')`. \n"
     ]
    },
    {
     "name": "stdout",
     "output_type": "stream",
     "text": [
      "862/862 - 34s - 39ms/step - loss: 0.4420 - val_loss: 0.4848\n",
      "Epoch 3/100\n",
      "862/862 - 34s - 40ms/step - loss: 0.3836 - val_loss: 0.5175\n",
      "Epoch 4/100\n",
      "862/862 - 34s - 40ms/step - loss: 0.3374 - val_loss: 0.5328\n",
      "Epoch 5/100\n",
      "862/862 - 36s - 42ms/step - loss: 0.2969 - val_loss: 0.5710\n",
      "Epoch 6/100\n",
      "862/862 - 37s - 42ms/step - loss: 0.2612 - val_loss: 0.5782\n",
      "Epoch 7/100\n",
      "862/862 - 55s - 64ms/step - loss: 0.2356 - val_loss: 0.5919\n",
      "Epoch 8/100\n",
      "862/862 - 56s - 65ms/step - loss: 0.2035 - val_loss: 0.5884\n",
      "Epoch 9/100\n",
      "862/862 - 47s - 54ms/step - loss: 0.1843 - val_loss: 0.6100\n",
      "Epoch 10/100\n",
      "862/862 - 38s - 44ms/step - loss: 0.1687 - val_loss: 0.6104\n",
      "Epoch 11/100\n",
      "862/862 - 37s - 43ms/step - loss: 0.1518 - val_loss: 0.6164\n",
      "Epoch 12/100\n",
      "862/862 - 37s - 43ms/step - loss: 0.1440 - val_loss: 0.5978\n",
      "Epoch 12: early stopping\n",
      "\u001b[1m96/96\u001b[0m \u001b[32m━━━━━━━━━━━━━━━━━━━━\u001b[0m\u001b[37m\u001b[0m \u001b[1m2s\u001b[0m 17ms/step\n",
      "Model model_c validation RMSE (real units): 62.7870\n"
     ]
    }
   ],
   "source": [
    "# === Train helper ===\n",
    "input_shape = (X_tr.shape[1], X_tr.shape[2])\n",
    "models, histories, val_scores = [], [], {}\n",
    "\n",
    "def train_and_save(model_builder, name, X_tr, y_tr, X_val, y_val):\n",
    "    model = model_builder(input_shape)\n",
    "    ckpt_path = f'{name}_best.h5'\n",
    "    mc = ModelCheckpoint(ckpt_path, monitor='val_loss', save_best_only=True, verbose=0)\n",
    "    es = EarlyStopping(monitor='val_loss', patience=10, restore_best_weights=False, verbose=1)\n",
    "    h = model.fit(X_tr, y_tr, validation_data=(X_val, y_val),\n",
    "                  epochs=EPOCHS, batch_size=BATCH_SIZE, callbacks=[es, mc], verbose=VERBOSE)\n",
    "    model.load_weights(ckpt_path)\n",
    "    y_val_pred_scaled = model.predict(X_val).flatten()\n",
    "    y_val_pred = y_scaler.inverse_transform(y_val_pred_scaled.reshape(-1,1)).flatten()\n",
    "    y_val_true = y_scaler.inverse_transform(y_val.reshape(-1,1)).flatten()\n",
    "    rmse_val = sqrt(mean_squared_error(y_val_true, y_val_pred))\n",
    "    print(f\"Model {name} validation RMSE (real units): {rmse_val:.4f}\")\n",
    "    return model, h, rmse_val\n",
    "\n",
    "# Train 3 models\n",
    "model_a, h_a, rmse_a = train_and_save(build_lstm, 'model_a', X_tr, y_tr, X_val, y_val)\n",
    "models.append(('model_a', model_a)); histories.append(('model_a', h_a)); val_scores['model_a'] = rmse_a\n",
    "\n",
    "model_b, h_b, rmse_b = train_and_save(build_bilstm, 'model_b', X_tr, y_tr, X_val, y_val)\n",
    "models.append(('model_b', model_b)); histories.append(('model_b', h_b)); val_scores['model_b'] = rmse_b\n",
    "\n",
    "model_c, h_c, rmse_c = train_and_save(build_gru, 'model_c', X_tr, y_tr, X_val, y_val)\n",
    "models.append(('model_c', model_c)); histories.append(('model_c', h_c)); val_scores['model_c'] = rmse_c\n"
   ]
  },
  {
   "cell_type": "markdown",
   "id": "24de3db3",
   "metadata": {},
   "source": [
    "Build Test Sequences"
   ]
  },
  {
   "cell_type": "code",
   "execution_count": 20,
   "id": "a3bb789b",
   "metadata": {},
   "outputs": [
    {
     "name": "stdout",
     "output_type": "stream",
     "text": [
      "X_test_seq shape: (13148, 48, 9)\n"
     ]
    }
   ],
   "source": [
    "# === Build test sequences ===\n",
    "seed = X_train_all[-SEQ_LEN:]  # last SEQ_LEN rows from train\n",
    "combined = np.vstack([seed, X_test_all])\n",
    "\n",
    "X_test_seq = np.array([combined[i:i+SEQ_LEN] for i in range(len(test))])\n",
    "print(\"X_test_seq shape:\", X_test_seq.shape)\n"
   ]
  },
  {
   "cell_type": "markdown",
   "id": "cb27cadc",
   "metadata": {},
   "source": [
    "Predict & Ensemble"
   ]
  },
  {
   "cell_type": "code",
   "execution_count": 21,
   "id": "7f2ccc53",
   "metadata": {},
   "outputs": [
    {
     "name": "stdout",
     "output_type": "stream",
     "text": [
      "\u001b[1m411/411\u001b[0m \u001b[32m━━━━━━━━━━━━━━━━━━━━\u001b[0m\u001b[37m\u001b[0m \u001b[1m7s\u001b[0m 16ms/step\n",
      "model_a predictions shape: (13148,)\n",
      "\u001b[1m411/411\u001b[0m \u001b[32m━━━━━━━━━━━━━━━━━━━━\u001b[0m\u001b[37m\u001b[0m \u001b[1m5s\u001b[0m 12ms/step\n",
      "model_b predictions shape: (13148,)\n",
      "\u001b[1m411/411\u001b[0m \u001b[32m━━━━━━━━━━━━━━━━━━━━\u001b[0m\u001b[37m\u001b[0m \u001b[1m6s\u001b[0m 13ms/step\n",
      "model_c predictions shape: (13148,)\n",
      "Per-model validation RMSE (real units): {'model_a': 62.330090102517524, 'model_b': 60.29629458829897, 'model_c': 62.78696822310186}\n",
      "Ensemble ready. Predictions vector length: 13148\n"
     ]
    }
   ],
   "source": [
    "# Predict with each model \n",
    "predictions = {}\n",
    "for name, model in models:\n",
    "    pred_scaled = model.predict(X_test_seq).flatten()\n",
    "    pred_real   = y_scaler.inverse_transform(pred_scaled.reshape(-1,1)).flatten()\n",
    "    predictions[name] = pred_real\n",
    "    print(f\"{name} predictions shape: {pred_real.shape}\")\n",
    "\n",
    "# Simple average ensemble\n",
    "ensemble_pred = np.mean(np.vstack([predictions[name] for name,_ in models]), axis=0)\n",
    "ensemble_pred = np.maximum(ensemble_pred, 0.0)  # pm2.5 cannot be negative\n",
    "\n",
    "print(\"Per-model validation RMSE (real units):\", val_scores)\n",
    "print(\"Ensemble ready. Predictions vector length:\", len(ensemble_pred))\n"
   ]
  },
  {
   "cell_type": "markdown",
   "id": "fee2c70c",
   "metadata": {},
   "source": [
    "Create Submission File"
   ]
  },
  {
   "cell_type": "code",
   "execution_count": 22,
   "id": "c0dc783e",
   "metadata": {},
   "outputs": [
    {
     "name": "stdout",
     "output_type": "stream",
     "text": [
      "Wrote ensemble submission -> submission/submission.csv\n",
      "                row ID      pm2.5\n",
      "0   2013-07-02 4:00:00  49.745686\n",
      "1   2013-07-02 5:00:00  48.470001\n",
      "2   2013-07-02 6:00:00  47.888214\n",
      "3   2013-07-02 7:00:00  47.236954\n",
      "4   2013-07-02 8:00:00  46.289722\n",
      "5   2013-07-02 9:00:00  44.907761\n",
      "6  2013-07-02 10:00:00  43.495441\n",
      "7  2013-07-02 11:00:00  41.812160\n"
     ]
    }
   ],
   "source": [
    "# === Create submission ===\n",
    "sample = pd.read_csv('data/sample_submission.csv')\n",
    "\n",
    "if 'pm2.5' in submission.columns:\n",
    "    submission['pm2.5'] = ensemble_pred[:len(submission)]\n",
    "else:\n",
    "    submission.iloc[:,1] = ensemble_pred[:len(submission)]\n",
    "\n",
    "out_path = 'submission/submission.csv'\n",
    "submission.to_csv(out_path, index=False)\n",
    "print(\"Wrote ensemble submission ->\", out_path)\n",
    "print(submission.head(8))\n"
   ]
  },
  {
   "cell_type": "markdown",
   "id": "c3372421",
   "metadata": {},
   "source": [
    "Hyperparameter Experiments (Multiple Models )\n",
    "\n",
    "Experiments with varied hyperparameters and architectures showing impact on validation RMSE and model improvements.\n"
   ]
  },
  {
   "cell_type": "code",
   "execution_count": 33,
   "id": "8066eeb0",
   "metadata": {},
   "outputs": [
    {
     "name": "stderr",
     "output_type": "stream",
     "text": [
      "c:\\Users\\Djafari\\AppData\\Local\\Programs\\Python\\Python312\\Lib\\site-packages\\keras\\src\\layers\\rnn\\rnn.py:199: UserWarning: Do not pass an `input_shape`/`input_dim` argument to a layer. When using Sequential models, prefer using an `Input(shape)` object as the first layer in the model instead.\n",
      "  super().__init__(**kwargs)\n"
     ]
    },
    {
     "name": "stdout",
     "output_type": "stream",
     "text": [
      "\u001b[1m7/7\u001b[0m \u001b[32m━━━━━━━━━━━━━━━━━━━━\u001b[0m\u001b[37m\u001b[0m \u001b[1m0s\u001b[0m 44ms/step\n",
      "LSTM | Units:(32, 16) Dropout:0.25 LR:0.001 Batch:32 => Val RMSE: 122.23\n"
     ]
    },
    {
     "name": "stderr",
     "output_type": "stream",
     "text": [
      "c:\\Users\\Djafari\\AppData\\Local\\Programs\\Python\\Python312\\Lib\\site-packages\\keras\\src\\layers\\rnn\\rnn.py:199: UserWarning: Do not pass an `input_shape`/`input_dim` argument to a layer. When using Sequential models, prefer using an `Input(shape)` object as the first layer in the model instead.\n",
      "  super().__init__(**kwargs)\n"
     ]
    },
    {
     "name": "stdout",
     "output_type": "stream",
     "text": [
      "\u001b[1m7/7\u001b[0m \u001b[32m━━━━━━━━━━━━━━━━━━━━\u001b[0m\u001b[37m\u001b[0m \u001b[1m0s\u001b[0m 45ms/step\n",
      "LSTM | Units:(32, 16) Dropout:0.25 LR:0.001 Batch:64 => Val RMSE: 131.26\n"
     ]
    },
    {
     "name": "stderr",
     "output_type": "stream",
     "text": [
      "c:\\Users\\Djafari\\AppData\\Local\\Programs\\Python\\Python312\\Lib\\site-packages\\keras\\src\\layers\\rnn\\rnn.py:199: UserWarning: Do not pass an `input_shape`/`input_dim` argument to a layer. When using Sequential models, prefer using an `Input(shape)` object as the first layer in the model instead.\n",
      "  super().__init__(**kwargs)\n"
     ]
    },
    {
     "name": "stdout",
     "output_type": "stream",
     "text": [
      "\u001b[1m7/7\u001b[0m \u001b[32m━━━━━━━━━━━━━━━━━━━━\u001b[0m\u001b[37m\u001b[0m \u001b[1m1s\u001b[0m 47ms/step\n",
      "LSTM | Units:(32, 16) Dropout:0.25 LR:0.0005 Batch:32 => Val RMSE: 129.73\n"
     ]
    },
    {
     "name": "stderr",
     "output_type": "stream",
     "text": [
      "c:\\Users\\Djafari\\AppData\\Local\\Programs\\Python\\Python312\\Lib\\site-packages\\keras\\src\\layers\\rnn\\rnn.py:199: UserWarning: Do not pass an `input_shape`/`input_dim` argument to a layer. When using Sequential models, prefer using an `Input(shape)` object as the first layer in the model instead.\n",
      "  super().__init__(**kwargs)\n"
     ]
    },
    {
     "name": "stdout",
     "output_type": "stream",
     "text": [
      "\u001b[1m7/7\u001b[0m \u001b[32m━━━━━━━━━━━━━━━━━━━━\u001b[0m\u001b[37m\u001b[0m \u001b[1m1s\u001b[0m 148ms/step\n",
      "LSTM | Units:(32, 16) Dropout:0.25 LR:0.0005 Batch:64 => Val RMSE: 130.29\n"
     ]
    },
    {
     "name": "stderr",
     "output_type": "stream",
     "text": [
      "c:\\Users\\Djafari\\AppData\\Local\\Programs\\Python\\Python312\\Lib\\site-packages\\keras\\src\\layers\\rnn\\rnn.py:199: UserWarning: Do not pass an `input_shape`/`input_dim` argument to a layer. When using Sequential models, prefer using an `Input(shape)` object as the first layer in the model instead.\n",
      "  super().__init__(**kwargs)\n"
     ]
    },
    {
     "name": "stdout",
     "output_type": "stream",
     "text": [
      "\u001b[1m7/7\u001b[0m \u001b[32m━━━━━━━━━━━━━━━━━━━━\u001b[0m\u001b[37m\u001b[0m \u001b[1m1s\u001b[0m 47ms/step\n",
      "LSTM | Units:(32, 16) Dropout:0.3 LR:0.001 Batch:32 => Val RMSE: 129.81\n"
     ]
    },
    {
     "name": "stderr",
     "output_type": "stream",
     "text": [
      "c:\\Users\\Djafari\\AppData\\Local\\Programs\\Python\\Python312\\Lib\\site-packages\\keras\\src\\layers\\rnn\\rnn.py:199: UserWarning: Do not pass an `input_shape`/`input_dim` argument to a layer. When using Sequential models, prefer using an `Input(shape)` object as the first layer in the model instead.\n",
      "  super().__init__(**kwargs)\n"
     ]
    },
    {
     "name": "stdout",
     "output_type": "stream",
     "text": [
      "\u001b[1m7/7\u001b[0m \u001b[32m━━━━━━━━━━━━━━━━━━━━\u001b[0m\u001b[37m\u001b[0m \u001b[1m0s\u001b[0m 41ms/step\n",
      "LSTM | Units:(32, 16) Dropout:0.3 LR:0.001 Batch:64 => Val RMSE: 125.68\n"
     ]
    },
    {
     "name": "stderr",
     "output_type": "stream",
     "text": [
      "c:\\Users\\Djafari\\AppData\\Local\\Programs\\Python\\Python312\\Lib\\site-packages\\keras\\src\\layers\\rnn\\rnn.py:199: UserWarning: Do not pass an `input_shape`/`input_dim` argument to a layer. When using Sequential models, prefer using an `Input(shape)` object as the first layer in the model instead.\n",
      "  super().__init__(**kwargs)\n"
     ]
    },
    {
     "name": "stdout",
     "output_type": "stream",
     "text": [
      "\u001b[1m7/7\u001b[0m \u001b[32m━━━━━━━━━━━━━━━━━━━━\u001b[0m\u001b[37m\u001b[0m \u001b[1m0s\u001b[0m 44ms/step\n",
      "LSTM | Units:(32, 16) Dropout:0.3 LR:0.0005 Batch:32 => Val RMSE: 133.34\n"
     ]
    },
    {
     "name": "stderr",
     "output_type": "stream",
     "text": [
      "c:\\Users\\Djafari\\AppData\\Local\\Programs\\Python\\Python312\\Lib\\site-packages\\keras\\src\\layers\\rnn\\rnn.py:199: UserWarning: Do not pass an `input_shape`/`input_dim` argument to a layer. When using Sequential models, prefer using an `Input(shape)` object as the first layer in the model instead.\n",
      "  super().__init__(**kwargs)\n"
     ]
    },
    {
     "name": "stdout",
     "output_type": "stream",
     "text": [
      "\u001b[1m7/7\u001b[0m \u001b[32m━━━━━━━━━━━━━━━━━━━━\u001b[0m\u001b[37m\u001b[0m \u001b[1m0s\u001b[0m 43ms/step\n",
      "LSTM | Units:(32, 16) Dropout:0.3 LR:0.0005 Batch:64 => Val RMSE: 130.28\n"
     ]
    },
    {
     "name": "stderr",
     "output_type": "stream",
     "text": [
      "c:\\Users\\Djafari\\AppData\\Local\\Programs\\Python\\Python312\\Lib\\site-packages\\keras\\src\\layers\\rnn\\rnn.py:199: UserWarning: Do not pass an `input_shape`/`input_dim` argument to a layer. When using Sequential models, prefer using an `Input(shape)` object as the first layer in the model instead.\n",
      "  super().__init__(**kwargs)\n"
     ]
    },
    {
     "name": "stdout",
     "output_type": "stream",
     "text": [
      "\u001b[1m7/7\u001b[0m \u001b[32m━━━━━━━━━━━━━━━━━━━━\u001b[0m\u001b[37m\u001b[0m \u001b[1m0s\u001b[0m 44ms/step\n",
      "LSTM | Units:(64, 32) Dropout:0.25 LR:0.001 Batch:32 => Val RMSE: 102.87\n"
     ]
    },
    {
     "name": "stderr",
     "output_type": "stream",
     "text": [
      "c:\\Users\\Djafari\\AppData\\Local\\Programs\\Python\\Python312\\Lib\\site-packages\\keras\\src\\layers\\rnn\\rnn.py:199: UserWarning: Do not pass an `input_shape`/`input_dim` argument to a layer. When using Sequential models, prefer using an `Input(shape)` object as the first layer in the model instead.\n",
      "  super().__init__(**kwargs)\n"
     ]
    },
    {
     "name": "stdout",
     "output_type": "stream",
     "text": [
      "\u001b[1m7/7\u001b[0m \u001b[32m━━━━━━━━━━━━━━━━━━━━\u001b[0m\u001b[37m\u001b[0m \u001b[1m1s\u001b[0m 54ms/step\n",
      "LSTM | Units:(64, 32) Dropout:0.25 LR:0.001 Batch:64 => Val RMSE: 124.70\n"
     ]
    },
    {
     "name": "stderr",
     "output_type": "stream",
     "text": [
      "c:\\Users\\Djafari\\AppData\\Local\\Programs\\Python\\Python312\\Lib\\site-packages\\keras\\src\\layers\\rnn\\rnn.py:199: UserWarning: Do not pass an `input_shape`/`input_dim` argument to a layer. When using Sequential models, prefer using an `Input(shape)` object as the first layer in the model instead.\n",
      "  super().__init__(**kwargs)\n"
     ]
    },
    {
     "name": "stdout",
     "output_type": "stream",
     "text": [
      "\u001b[1m7/7\u001b[0m \u001b[32m━━━━━━━━━━━━━━━━━━━━\u001b[0m\u001b[37m\u001b[0m \u001b[1m0s\u001b[0m 44ms/step\n",
      "LSTM | Units:(64, 32) Dropout:0.25 LR:0.0005 Batch:32 => Val RMSE: 128.86\n"
     ]
    },
    {
     "name": "stderr",
     "output_type": "stream",
     "text": [
      "c:\\Users\\Djafari\\AppData\\Local\\Programs\\Python\\Python312\\Lib\\site-packages\\keras\\src\\layers\\rnn\\rnn.py:199: UserWarning: Do not pass an `input_shape`/`input_dim` argument to a layer. When using Sequential models, prefer using an `Input(shape)` object as the first layer in the model instead.\n",
      "  super().__init__(**kwargs)\n"
     ]
    },
    {
     "name": "stdout",
     "output_type": "stream",
     "text": [
      "\u001b[1m7/7\u001b[0m \u001b[32m━━━━━━━━━━━━━━━━━━━━\u001b[0m\u001b[37m\u001b[0m \u001b[1m0s\u001b[0m 44ms/step\n",
      "LSTM | Units:(64, 32) Dropout:0.25 LR:0.0005 Batch:64 => Val RMSE: 128.70\n"
     ]
    },
    {
     "name": "stderr",
     "output_type": "stream",
     "text": [
      "c:\\Users\\Djafari\\AppData\\Local\\Programs\\Python\\Python312\\Lib\\site-packages\\keras\\src\\layers\\rnn\\rnn.py:199: UserWarning: Do not pass an `input_shape`/`input_dim` argument to a layer. When using Sequential models, prefer using an `Input(shape)` object as the first layer in the model instead.\n",
      "  super().__init__(**kwargs)\n"
     ]
    },
    {
     "name": "stdout",
     "output_type": "stream",
     "text": [
      "\u001b[1m7/7\u001b[0m \u001b[32m━━━━━━━━━━━━━━━━━━━━\u001b[0m\u001b[37m\u001b[0m \u001b[1m1s\u001b[0m 47ms/step\n",
      "LSTM | Units:(64, 32) Dropout:0.3 LR:0.001 Batch:32 => Val RMSE: 126.00\n"
     ]
    },
    {
     "name": "stderr",
     "output_type": "stream",
     "text": [
      "c:\\Users\\Djafari\\AppData\\Local\\Programs\\Python\\Python312\\Lib\\site-packages\\keras\\src\\layers\\rnn\\rnn.py:199: UserWarning: Do not pass an `input_shape`/`input_dim` argument to a layer. When using Sequential models, prefer using an `Input(shape)` object as the first layer in the model instead.\n",
      "  super().__init__(**kwargs)\n"
     ]
    },
    {
     "name": "stdout",
     "output_type": "stream",
     "text": [
      "\u001b[1m7/7\u001b[0m \u001b[32m━━━━━━━━━━━━━━━━━━━━\u001b[0m\u001b[37m\u001b[0m \u001b[1m0s\u001b[0m 44ms/step\n",
      "LSTM | Units:(64, 32) Dropout:0.3 LR:0.001 Batch:64 => Val RMSE: 125.33\n"
     ]
    },
    {
     "name": "stderr",
     "output_type": "stream",
     "text": [
      "c:\\Users\\Djafari\\AppData\\Local\\Programs\\Python\\Python312\\Lib\\site-packages\\keras\\src\\layers\\rnn\\rnn.py:199: UserWarning: Do not pass an `input_shape`/`input_dim` argument to a layer. When using Sequential models, prefer using an `Input(shape)` object as the first layer in the model instead.\n",
      "  super().__init__(**kwargs)\n"
     ]
    },
    {
     "name": "stdout",
     "output_type": "stream",
     "text": [
      "\u001b[1m7/7\u001b[0m \u001b[32m━━━━━━━━━━━━━━━━━━━━\u001b[0m\u001b[37m\u001b[0m \u001b[1m0s\u001b[0m 43ms/step\n",
      "LSTM | Units:(64, 32) Dropout:0.3 LR:0.0005 Batch:32 => Val RMSE: 119.01\n"
     ]
    },
    {
     "name": "stderr",
     "output_type": "stream",
     "text": [
      "c:\\Users\\Djafari\\AppData\\Local\\Programs\\Python\\Python312\\Lib\\site-packages\\keras\\src\\layers\\rnn\\rnn.py:199: UserWarning: Do not pass an `input_shape`/`input_dim` argument to a layer. When using Sequential models, prefer using an `Input(shape)` object as the first layer in the model instead.\n",
      "  super().__init__(**kwargs)\n"
     ]
    },
    {
     "name": "stdout",
     "output_type": "stream",
     "text": [
      "\u001b[1m7/7\u001b[0m \u001b[32m━━━━━━━━━━━━━━━━━━━━\u001b[0m\u001b[37m\u001b[0m \u001b[1m1s\u001b[0m 48ms/step\n",
      "LSTM | Units:(64, 32) Dropout:0.3 LR:0.0005 Batch:64 => Val RMSE: 124.96\n"
     ]
    },
    {
     "name": "stderr",
     "output_type": "stream",
     "text": [
      "c:\\Users\\Djafari\\AppData\\Local\\Programs\\Python\\Python312\\Lib\\site-packages\\keras\\src\\layers\\rnn\\bidirectional.py:107: UserWarning: Do not pass an `input_shape`/`input_dim` argument to a layer. When using Sequential models, prefer using an `Input(shape)` object as the first layer in the model instead.\n",
      "  super().__init__(**kwargs)\n"
     ]
    },
    {
     "name": "stdout",
     "output_type": "stream",
     "text": [
      "\u001b[1m7/7\u001b[0m \u001b[32m━━━━━━━━━━━━━━━━━━━━\u001b[0m\u001b[37m\u001b[0m \u001b[1m1s\u001b[0m 82ms/step\n",
      "BiLSTM | Units:(32, 16) Dropout:0.25 LR:0.001 Batch:32 => Val RMSE: 116.50\n"
     ]
    },
    {
     "name": "stderr",
     "output_type": "stream",
     "text": [
      "c:\\Users\\Djafari\\AppData\\Local\\Programs\\Python\\Python312\\Lib\\site-packages\\keras\\src\\layers\\rnn\\bidirectional.py:107: UserWarning: Do not pass an `input_shape`/`input_dim` argument to a layer. When using Sequential models, prefer using an `Input(shape)` object as the first layer in the model instead.\n",
      "  super().__init__(**kwargs)\n"
     ]
    },
    {
     "name": "stdout",
     "output_type": "stream",
     "text": [
      "\u001b[1m7/7\u001b[0m \u001b[32m━━━━━━━━━━━━━━━━━━━━\u001b[0m\u001b[37m\u001b[0m \u001b[1m1s\u001b[0m 92ms/step\n",
      "BiLSTM | Units:(32, 16) Dropout:0.25 LR:0.001 Batch:64 => Val RMSE: 118.38\n"
     ]
    },
    {
     "name": "stderr",
     "output_type": "stream",
     "text": [
      "c:\\Users\\Djafari\\AppData\\Local\\Programs\\Python\\Python312\\Lib\\site-packages\\keras\\src\\layers\\rnn\\bidirectional.py:107: UserWarning: Do not pass an `input_shape`/`input_dim` argument to a layer. When using Sequential models, prefer using an `Input(shape)` object as the first layer in the model instead.\n",
      "  super().__init__(**kwargs)\n"
     ]
    },
    {
     "name": "stdout",
     "output_type": "stream",
     "text": [
      "\u001b[1m7/7\u001b[0m \u001b[32m━━━━━━━━━━━━━━━━━━━━\u001b[0m\u001b[37m\u001b[0m \u001b[1m1s\u001b[0m 77ms/step\n",
      "BiLSTM | Units:(32, 16) Dropout:0.25 LR:0.0005 Batch:32 => Val RMSE: 119.61\n"
     ]
    },
    {
     "name": "stderr",
     "output_type": "stream",
     "text": [
      "c:\\Users\\Djafari\\AppData\\Local\\Programs\\Python\\Python312\\Lib\\site-packages\\keras\\src\\layers\\rnn\\bidirectional.py:107: UserWarning: Do not pass an `input_shape`/`input_dim` argument to a layer. When using Sequential models, prefer using an `Input(shape)` object as the first layer in the model instead.\n",
      "  super().__init__(**kwargs)\n"
     ]
    },
    {
     "name": "stdout",
     "output_type": "stream",
     "text": [
      "\u001b[1m7/7\u001b[0m \u001b[32m━━━━━━━━━━━━━━━━━━━━\u001b[0m\u001b[37m\u001b[0m \u001b[1m1s\u001b[0m 83ms/step\n",
      "BiLSTM | Units:(32, 16) Dropout:0.25 LR:0.0005 Batch:64 => Val RMSE: 127.53\n"
     ]
    },
    {
     "name": "stderr",
     "output_type": "stream",
     "text": [
      "c:\\Users\\Djafari\\AppData\\Local\\Programs\\Python\\Python312\\Lib\\site-packages\\keras\\src\\layers\\rnn\\bidirectional.py:107: UserWarning: Do not pass an `input_shape`/`input_dim` argument to a layer. When using Sequential models, prefer using an `Input(shape)` object as the first layer in the model instead.\n",
      "  super().__init__(**kwargs)\n"
     ]
    },
    {
     "name": "stdout",
     "output_type": "stream",
     "text": [
      "\u001b[1m7/7\u001b[0m \u001b[32m━━━━━━━━━━━━━━━━━━━━\u001b[0m\u001b[37m\u001b[0m \u001b[1m1s\u001b[0m 80ms/step\n",
      "BiLSTM | Units:(32, 16) Dropout:0.3 LR:0.001 Batch:32 => Val RMSE: 110.79\n"
     ]
    },
    {
     "name": "stderr",
     "output_type": "stream",
     "text": [
      "c:\\Users\\Djafari\\AppData\\Local\\Programs\\Python\\Python312\\Lib\\site-packages\\keras\\src\\layers\\rnn\\bidirectional.py:107: UserWarning: Do not pass an `input_shape`/`input_dim` argument to a layer. When using Sequential models, prefer using an `Input(shape)` object as the first layer in the model instead.\n",
      "  super().__init__(**kwargs)\n"
     ]
    },
    {
     "name": "stdout",
     "output_type": "stream",
     "text": [
      "\u001b[1m7/7\u001b[0m \u001b[32m━━━━━━━━━━━━━━━━━━━━\u001b[0m\u001b[37m\u001b[0m \u001b[1m1s\u001b[0m 78ms/step\n",
      "BiLSTM | Units:(32, 16) Dropout:0.3 LR:0.001 Batch:64 => Val RMSE: 115.16\n"
     ]
    },
    {
     "name": "stderr",
     "output_type": "stream",
     "text": [
      "c:\\Users\\Djafari\\AppData\\Local\\Programs\\Python\\Python312\\Lib\\site-packages\\keras\\src\\layers\\rnn\\bidirectional.py:107: UserWarning: Do not pass an `input_shape`/`input_dim` argument to a layer. When using Sequential models, prefer using an `Input(shape)` object as the first layer in the model instead.\n",
      "  super().__init__(**kwargs)\n"
     ]
    },
    {
     "name": "stdout",
     "output_type": "stream",
     "text": [
      "\u001b[1m7/7\u001b[0m \u001b[32m━━━━━━━━━━━━━━━━━━━━\u001b[0m\u001b[37m\u001b[0m \u001b[1m1s\u001b[0m 90ms/step\n",
      "BiLSTM | Units:(32, 16) Dropout:0.3 LR:0.0005 Batch:32 => Val RMSE: 125.14\n"
     ]
    },
    {
     "name": "stderr",
     "output_type": "stream",
     "text": [
      "c:\\Users\\Djafari\\AppData\\Local\\Programs\\Python\\Python312\\Lib\\site-packages\\keras\\src\\layers\\rnn\\bidirectional.py:107: UserWarning: Do not pass an `input_shape`/`input_dim` argument to a layer. When using Sequential models, prefer using an `Input(shape)` object as the first layer in the model instead.\n",
      "  super().__init__(**kwargs)\n"
     ]
    },
    {
     "name": "stdout",
     "output_type": "stream",
     "text": [
      "\u001b[1m7/7\u001b[0m \u001b[32m━━━━━━━━━━━━━━━━━━━━\u001b[0m\u001b[37m\u001b[0m \u001b[1m1s\u001b[0m 81ms/step\n",
      "BiLSTM | Units:(32, 16) Dropout:0.3 LR:0.0005 Batch:64 => Val RMSE: 119.43\n"
     ]
    },
    {
     "name": "stderr",
     "output_type": "stream",
     "text": [
      "c:\\Users\\Djafari\\AppData\\Local\\Programs\\Python\\Python312\\Lib\\site-packages\\keras\\src\\layers\\rnn\\bidirectional.py:107: UserWarning: Do not pass an `input_shape`/`input_dim` argument to a layer. When using Sequential models, prefer using an `Input(shape)` object as the first layer in the model instead.\n",
      "  super().__init__(**kwargs)\n"
     ]
    },
    {
     "name": "stdout",
     "output_type": "stream",
     "text": [
      "\u001b[1m7/7\u001b[0m \u001b[32m━━━━━━━━━━━━━━━━━━━━\u001b[0m\u001b[37m\u001b[0m \u001b[1m1s\u001b[0m 82ms/step\n",
      "BiLSTM | Units:(64, 32) Dropout:0.25 LR:0.001 Batch:32 => Val RMSE: 109.12\n"
     ]
    },
    {
     "name": "stderr",
     "output_type": "stream",
     "text": [
      "c:\\Users\\Djafari\\AppData\\Local\\Programs\\Python\\Python312\\Lib\\site-packages\\keras\\src\\layers\\rnn\\bidirectional.py:107: UserWarning: Do not pass an `input_shape`/`input_dim` argument to a layer. When using Sequential models, prefer using an `Input(shape)` object as the first layer in the model instead.\n",
      "  super().__init__(**kwargs)\n"
     ]
    },
    {
     "name": "stdout",
     "output_type": "stream",
     "text": [
      "\u001b[1m7/7\u001b[0m \u001b[32m━━━━━━━━━━━━━━━━━━━━\u001b[0m\u001b[37m\u001b[0m \u001b[1m1s\u001b[0m 86ms/step\n",
      "BiLSTM | Units:(64, 32) Dropout:0.25 LR:0.001 Batch:64 => Val RMSE: 116.29\n"
     ]
    },
    {
     "name": "stderr",
     "output_type": "stream",
     "text": [
      "c:\\Users\\Djafari\\AppData\\Local\\Programs\\Python\\Python312\\Lib\\site-packages\\keras\\src\\layers\\rnn\\bidirectional.py:107: UserWarning: Do not pass an `input_shape`/`input_dim` argument to a layer. When using Sequential models, prefer using an `Input(shape)` object as the first layer in the model instead.\n",
      "  super().__init__(**kwargs)\n"
     ]
    },
    {
     "name": "stdout",
     "output_type": "stream",
     "text": [
      "\u001b[1m7/7\u001b[0m \u001b[32m━━━━━━━━━━━━━━━━━━━━\u001b[0m\u001b[37m\u001b[0m \u001b[1m1s\u001b[0m 82ms/step\n",
      "BiLSTM | Units:(64, 32) Dropout:0.25 LR:0.0005 Batch:32 => Val RMSE: 109.29\n"
     ]
    },
    {
     "name": "stderr",
     "output_type": "stream",
     "text": [
      "c:\\Users\\Djafari\\AppData\\Local\\Programs\\Python\\Python312\\Lib\\site-packages\\keras\\src\\layers\\rnn\\bidirectional.py:107: UserWarning: Do not pass an `input_shape`/`input_dim` argument to a layer. When using Sequential models, prefer using an `Input(shape)` object as the first layer in the model instead.\n",
      "  super().__init__(**kwargs)\n"
     ]
    },
    {
     "name": "stdout",
     "output_type": "stream",
     "text": [
      "\u001b[1m7/7\u001b[0m \u001b[32m━━━━━━━━━━━━━━━━━━━━\u001b[0m\u001b[37m\u001b[0m \u001b[1m2s\u001b[0m 308ms/step\n",
      "BiLSTM | Units:(64, 32) Dropout:0.25 LR:0.0005 Batch:64 => Val RMSE: 118.32\n"
     ]
    },
    {
     "name": "stderr",
     "output_type": "stream",
     "text": [
      "c:\\Users\\Djafari\\AppData\\Local\\Programs\\Python\\Python312\\Lib\\site-packages\\keras\\src\\layers\\rnn\\bidirectional.py:107: UserWarning: Do not pass an `input_shape`/`input_dim` argument to a layer. When using Sequential models, prefer using an `Input(shape)` object as the first layer in the model instead.\n",
      "  super().__init__(**kwargs)\n"
     ]
    },
    {
     "name": "stdout",
     "output_type": "stream",
     "text": [
      "\u001b[1m7/7\u001b[0m \u001b[32m━━━━━━━━━━━━━━━━━━━━\u001b[0m\u001b[37m\u001b[0m \u001b[1m1s\u001b[0m 83ms/step\n",
      "BiLSTM | Units:(64, 32) Dropout:0.3 LR:0.001 Batch:32 => Val RMSE: 108.61\n"
     ]
    },
    {
     "name": "stderr",
     "output_type": "stream",
     "text": [
      "c:\\Users\\Djafari\\AppData\\Local\\Programs\\Python\\Python312\\Lib\\site-packages\\keras\\src\\layers\\rnn\\bidirectional.py:107: UserWarning: Do not pass an `input_shape`/`input_dim` argument to a layer. When using Sequential models, prefer using an `Input(shape)` object as the first layer in the model instead.\n",
      "  super().__init__(**kwargs)\n"
     ]
    },
    {
     "name": "stdout",
     "output_type": "stream",
     "text": [
      "\u001b[1m7/7\u001b[0m \u001b[32m━━━━━━━━━━━━━━━━━━━━\u001b[0m\u001b[37m\u001b[0m \u001b[1m1s\u001b[0m 83ms/step\n",
      "BiLSTM | Units:(64, 32) Dropout:0.3 LR:0.001 Batch:64 => Val RMSE: 115.20\n"
     ]
    },
    {
     "name": "stderr",
     "output_type": "stream",
     "text": [
      "c:\\Users\\Djafari\\AppData\\Local\\Programs\\Python\\Python312\\Lib\\site-packages\\keras\\src\\layers\\rnn\\bidirectional.py:107: UserWarning: Do not pass an `input_shape`/`input_dim` argument to a layer. When using Sequential models, prefer using an `Input(shape)` object as the first layer in the model instead.\n",
      "  super().__init__(**kwargs)\n"
     ]
    },
    {
     "name": "stdout",
     "output_type": "stream",
     "text": [
      "\u001b[1m7/7\u001b[0m \u001b[32m━━━━━━━━━━━━━━━━━━━━\u001b[0m\u001b[37m\u001b[0m \u001b[1m1s\u001b[0m 88ms/step\n",
      "BiLSTM | Units:(64, 32) Dropout:0.3 LR:0.0005 Batch:32 => Val RMSE: 117.28\n"
     ]
    },
    {
     "name": "stderr",
     "output_type": "stream",
     "text": [
      "c:\\Users\\Djafari\\AppData\\Local\\Programs\\Python\\Python312\\Lib\\site-packages\\keras\\src\\layers\\rnn\\bidirectional.py:107: UserWarning: Do not pass an `input_shape`/`input_dim` argument to a layer. When using Sequential models, prefer using an `Input(shape)` object as the first layer in the model instead.\n",
      "  super().__init__(**kwargs)\n"
     ]
    },
    {
     "name": "stdout",
     "output_type": "stream",
     "text": [
      "\u001b[1m7/7\u001b[0m \u001b[32m━━━━━━━━━━━━━━━━━━━━\u001b[0m\u001b[37m\u001b[0m \u001b[1m1s\u001b[0m 92ms/step\n",
      "BiLSTM | Units:(64, 32) Dropout:0.3 LR:0.0005 Batch:64 => Val RMSE: 119.50\n"
     ]
    },
    {
     "name": "stderr",
     "output_type": "stream",
     "text": [
      "c:\\Users\\Djafari\\AppData\\Local\\Programs\\Python\\Python312\\Lib\\site-packages\\keras\\src\\layers\\rnn\\rnn.py:199: UserWarning: Do not pass an `input_shape`/`input_dim` argument to a layer. When using Sequential models, prefer using an `Input(shape)` object as the first layer in the model instead.\n",
      "  super().__init__(**kwargs)\n"
     ]
    },
    {
     "name": "stdout",
     "output_type": "stream",
     "text": [
      "\u001b[1m7/7\u001b[0m \u001b[32m━━━━━━━━━━━━━━━━━━━━\u001b[0m\u001b[37m\u001b[0m \u001b[1m1s\u001b[0m 56ms/step\n",
      "GRU | Units:(32, 16) Dropout:0.25 LR:0.001 Batch:32 => Val RMSE: 113.23\n"
     ]
    },
    {
     "name": "stderr",
     "output_type": "stream",
     "text": [
      "c:\\Users\\Djafari\\AppData\\Local\\Programs\\Python\\Python312\\Lib\\site-packages\\keras\\src\\layers\\rnn\\rnn.py:199: UserWarning: Do not pass an `input_shape`/`input_dim` argument to a layer. When using Sequential models, prefer using an `Input(shape)` object as the first layer in the model instead.\n",
      "  super().__init__(**kwargs)\n"
     ]
    },
    {
     "name": "stdout",
     "output_type": "stream",
     "text": [
      "\u001b[1m7/7\u001b[0m \u001b[32m━━━━━━━━━━━━━━━━━━━━\u001b[0m\u001b[37m\u001b[0m \u001b[1m1s\u001b[0m 57ms/step\n",
      "GRU | Units:(32, 16) Dropout:0.25 LR:0.001 Batch:64 => Val RMSE: 118.80\n"
     ]
    },
    {
     "name": "stderr",
     "output_type": "stream",
     "text": [
      "c:\\Users\\Djafari\\AppData\\Local\\Programs\\Python\\Python312\\Lib\\site-packages\\keras\\src\\layers\\rnn\\rnn.py:199: UserWarning: Do not pass an `input_shape`/`input_dim` argument to a layer. When using Sequential models, prefer using an `Input(shape)` object as the first layer in the model instead.\n",
      "  super().__init__(**kwargs)\n"
     ]
    },
    {
     "name": "stdout",
     "output_type": "stream",
     "text": [
      "\u001b[1m7/7\u001b[0m \u001b[32m━━━━━━━━━━━━━━━━━━━━\u001b[0m\u001b[37m\u001b[0m \u001b[1m1s\u001b[0m 51ms/step\n",
      "GRU | Units:(32, 16) Dropout:0.25 LR:0.0005 Batch:32 => Val RMSE: 116.78\n"
     ]
    },
    {
     "name": "stderr",
     "output_type": "stream",
     "text": [
      "c:\\Users\\Djafari\\AppData\\Local\\Programs\\Python\\Python312\\Lib\\site-packages\\keras\\src\\layers\\rnn\\rnn.py:199: UserWarning: Do not pass an `input_shape`/`input_dim` argument to a layer. When using Sequential models, prefer using an `Input(shape)` object as the first layer in the model instead.\n",
      "  super().__init__(**kwargs)\n"
     ]
    },
    {
     "name": "stdout",
     "output_type": "stream",
     "text": [
      "\u001b[1m7/7\u001b[0m \u001b[32m━━━━━━━━━━━━━━━━━━━━\u001b[0m\u001b[37m\u001b[0m \u001b[1m1s\u001b[0m 74ms/step\n",
      "GRU | Units:(32, 16) Dropout:0.25 LR:0.0005 Batch:64 => Val RMSE: 136.13\n"
     ]
    },
    {
     "name": "stderr",
     "output_type": "stream",
     "text": [
      "c:\\Users\\Djafari\\AppData\\Local\\Programs\\Python\\Python312\\Lib\\site-packages\\keras\\src\\layers\\rnn\\rnn.py:199: UserWarning: Do not pass an `input_shape`/`input_dim` argument to a layer. When using Sequential models, prefer using an `Input(shape)` object as the first layer in the model instead.\n",
      "  super().__init__(**kwargs)\n"
     ]
    },
    {
     "name": "stdout",
     "output_type": "stream",
     "text": [
      "\u001b[1m7/7\u001b[0m \u001b[32m━━━━━━━━━━━━━━━━━━━━\u001b[0m\u001b[37m\u001b[0m \u001b[1m1s\u001b[0m 51ms/step\n",
      "GRU | Units:(32, 16) Dropout:0.3 LR:0.001 Batch:32 => Val RMSE: 118.03\n"
     ]
    },
    {
     "name": "stderr",
     "output_type": "stream",
     "text": [
      "c:\\Users\\Djafari\\AppData\\Local\\Programs\\Python\\Python312\\Lib\\site-packages\\keras\\src\\layers\\rnn\\rnn.py:199: UserWarning: Do not pass an `input_shape`/`input_dim` argument to a layer. When using Sequential models, prefer using an `Input(shape)` object as the first layer in the model instead.\n",
      "  super().__init__(**kwargs)\n"
     ]
    },
    {
     "name": "stdout",
     "output_type": "stream",
     "text": [
      "\u001b[1m7/7\u001b[0m \u001b[32m━━━━━━━━━━━━━━━━━━━━\u001b[0m\u001b[37m\u001b[0m \u001b[1m1s\u001b[0m 52ms/step\n",
      "GRU | Units:(32, 16) Dropout:0.3 LR:0.001 Batch:64 => Val RMSE: 120.88\n"
     ]
    },
    {
     "name": "stderr",
     "output_type": "stream",
     "text": [
      "c:\\Users\\Djafari\\AppData\\Local\\Programs\\Python\\Python312\\Lib\\site-packages\\keras\\src\\layers\\rnn\\rnn.py:199: UserWarning: Do not pass an `input_shape`/`input_dim` argument to a layer. When using Sequential models, prefer using an `Input(shape)` object as the first layer in the model instead.\n",
      "  super().__init__(**kwargs)\n"
     ]
    },
    {
     "name": "stdout",
     "output_type": "stream",
     "text": [
      "\u001b[1m7/7\u001b[0m \u001b[32m━━━━━━━━━━━━━━━━━━━━\u001b[0m\u001b[37m\u001b[0m \u001b[1m1s\u001b[0m 51ms/step\n",
      "GRU | Units:(32, 16) Dropout:0.3 LR:0.0005 Batch:32 => Val RMSE: 123.78\n"
     ]
    },
    {
     "name": "stderr",
     "output_type": "stream",
     "text": [
      "c:\\Users\\Djafari\\AppData\\Local\\Programs\\Python\\Python312\\Lib\\site-packages\\keras\\src\\layers\\rnn\\rnn.py:199: UserWarning: Do not pass an `input_shape`/`input_dim` argument to a layer. When using Sequential models, prefer using an `Input(shape)` object as the first layer in the model instead.\n",
      "  super().__init__(**kwargs)\n"
     ]
    },
    {
     "name": "stdout",
     "output_type": "stream",
     "text": [
      "\u001b[1m7/7\u001b[0m \u001b[32m━━━━━━━━━━━━━━━━━━━━\u001b[0m\u001b[37m\u001b[0m \u001b[1m1s\u001b[0m 49ms/step\n",
      "GRU | Units:(32, 16) Dropout:0.3 LR:0.0005 Batch:64 => Val RMSE: 135.70\n"
     ]
    },
    {
     "name": "stderr",
     "output_type": "stream",
     "text": [
      "c:\\Users\\Djafari\\AppData\\Local\\Programs\\Python\\Python312\\Lib\\site-packages\\keras\\src\\layers\\rnn\\rnn.py:199: UserWarning: Do not pass an `input_shape`/`input_dim` argument to a layer. When using Sequential models, prefer using an `Input(shape)` object as the first layer in the model instead.\n",
      "  super().__init__(**kwargs)\n"
     ]
    },
    {
     "name": "stdout",
     "output_type": "stream",
     "text": [
      "\u001b[1m7/7\u001b[0m \u001b[32m━━━━━━━━━━━━━━━━━━━━\u001b[0m\u001b[37m\u001b[0m \u001b[1m1s\u001b[0m 53ms/step\n",
      "GRU | Units:(64, 32) Dropout:0.25 LR:0.001 Batch:32 => Val RMSE: 110.67\n"
     ]
    },
    {
     "name": "stderr",
     "output_type": "stream",
     "text": [
      "c:\\Users\\Djafari\\AppData\\Local\\Programs\\Python\\Python312\\Lib\\site-packages\\keras\\src\\layers\\rnn\\rnn.py:199: UserWarning: Do not pass an `input_shape`/`input_dim` argument to a layer. When using Sequential models, prefer using an `Input(shape)` object as the first layer in the model instead.\n",
      "  super().__init__(**kwargs)\n"
     ]
    },
    {
     "name": "stdout",
     "output_type": "stream",
     "text": [
      "\u001b[1m7/7\u001b[0m \u001b[32m━━━━━━━━━━━━━━━━━━━━\u001b[0m\u001b[37m\u001b[0m \u001b[1m1s\u001b[0m 58ms/step\n",
      "GRU | Units:(64, 32) Dropout:0.25 LR:0.001 Batch:64 => Val RMSE: 113.32\n"
     ]
    },
    {
     "name": "stderr",
     "output_type": "stream",
     "text": [
      "c:\\Users\\Djafari\\AppData\\Local\\Programs\\Python\\Python312\\Lib\\site-packages\\keras\\src\\layers\\rnn\\rnn.py:199: UserWarning: Do not pass an `input_shape`/`input_dim` argument to a layer. When using Sequential models, prefer using an `Input(shape)` object as the first layer in the model instead.\n",
      "  super().__init__(**kwargs)\n"
     ]
    },
    {
     "name": "stdout",
     "output_type": "stream",
     "text": [
      "\u001b[1m7/7\u001b[0m \u001b[32m━━━━━━━━━━━━━━━━━━━━\u001b[0m\u001b[37m\u001b[0m \u001b[1m1s\u001b[0m 55ms/step\n",
      "GRU | Units:(64, 32) Dropout:0.25 LR:0.0005 Batch:32 => Val RMSE: 117.88\n"
     ]
    },
    {
     "name": "stderr",
     "output_type": "stream",
     "text": [
      "c:\\Users\\Djafari\\AppData\\Local\\Programs\\Python\\Python312\\Lib\\site-packages\\keras\\src\\layers\\rnn\\rnn.py:199: UserWarning: Do not pass an `input_shape`/`input_dim` argument to a layer. When using Sequential models, prefer using an `Input(shape)` object as the first layer in the model instead.\n",
      "  super().__init__(**kwargs)\n"
     ]
    },
    {
     "name": "stdout",
     "output_type": "stream",
     "text": [
      "\u001b[1m7/7\u001b[0m \u001b[32m━━━━━━━━━━━━━━━━━━━━\u001b[0m\u001b[37m\u001b[0m \u001b[1m1s\u001b[0m 53ms/step\n",
      "GRU | Units:(64, 32) Dropout:0.25 LR:0.0005 Batch:64 => Val RMSE: 120.18\n"
     ]
    },
    {
     "name": "stderr",
     "output_type": "stream",
     "text": [
      "c:\\Users\\Djafari\\AppData\\Local\\Programs\\Python\\Python312\\Lib\\site-packages\\keras\\src\\layers\\rnn\\rnn.py:199: UserWarning: Do not pass an `input_shape`/`input_dim` argument to a layer. When using Sequential models, prefer using an `Input(shape)` object as the first layer in the model instead.\n",
      "  super().__init__(**kwargs)\n"
     ]
    },
    {
     "name": "stdout",
     "output_type": "stream",
     "text": [
      "\u001b[1m7/7\u001b[0m \u001b[32m━━━━━━━━━━━━━━━━━━━━\u001b[0m\u001b[37m\u001b[0m \u001b[1m1s\u001b[0m 51ms/step\n",
      "GRU | Units:(64, 32) Dropout:0.3 LR:0.001 Batch:32 => Val RMSE: 115.38\n"
     ]
    },
    {
     "name": "stderr",
     "output_type": "stream",
     "text": [
      "c:\\Users\\Djafari\\AppData\\Local\\Programs\\Python\\Python312\\Lib\\site-packages\\keras\\src\\layers\\rnn\\rnn.py:199: UserWarning: Do not pass an `input_shape`/`input_dim` argument to a layer. When using Sequential models, prefer using an `Input(shape)` object as the first layer in the model instead.\n",
      "  super().__init__(**kwargs)\n"
     ]
    },
    {
     "name": "stdout",
     "output_type": "stream",
     "text": [
      "\u001b[1m7/7\u001b[0m \u001b[32m━━━━━━━━━━━━━━━━━━━━\u001b[0m\u001b[37m\u001b[0m \u001b[1m1s\u001b[0m 54ms/step\n",
      "GRU | Units:(64, 32) Dropout:0.3 LR:0.001 Batch:64 => Val RMSE: 115.81\n"
     ]
    },
    {
     "name": "stderr",
     "output_type": "stream",
     "text": [
      "c:\\Users\\Djafari\\AppData\\Local\\Programs\\Python\\Python312\\Lib\\site-packages\\keras\\src\\layers\\rnn\\rnn.py:199: UserWarning: Do not pass an `input_shape`/`input_dim` argument to a layer. When using Sequential models, prefer using an `Input(shape)` object as the first layer in the model instead.\n",
      "  super().__init__(**kwargs)\n"
     ]
    },
    {
     "name": "stdout",
     "output_type": "stream",
     "text": [
      "\u001b[1m7/7\u001b[0m \u001b[32m━━━━━━━━━━━━━━━━━━━━\u001b[0m\u001b[37m\u001b[0m \u001b[1m1s\u001b[0m 54ms/step\n",
      "GRU | Units:(64, 32) Dropout:0.3 LR:0.0005 Batch:32 => Val RMSE: 112.96\n"
     ]
    },
    {
     "name": "stderr",
     "output_type": "stream",
     "text": [
      "c:\\Users\\Djafari\\AppData\\Local\\Programs\\Python\\Python312\\Lib\\site-packages\\keras\\src\\layers\\rnn\\rnn.py:199: UserWarning: Do not pass an `input_shape`/`input_dim` argument to a layer. When using Sequential models, prefer using an `Input(shape)` object as the first layer in the model instead.\n",
      "  super().__init__(**kwargs)\n"
     ]
    },
    {
     "name": "stdout",
     "output_type": "stream",
     "text": [
      "\u001b[1m7/7\u001b[0m \u001b[32m━━━━━━━━━━━━━━━━━━━━\u001b[0m\u001b[37m\u001b[0m \u001b[1m1s\u001b[0m 66ms/step\n",
      "GRU | Units:(64, 32) Dropout:0.3 LR:0.0005 Batch:64 => Val RMSE: 118.86\n",
      "| Model   | Units    |   Dropout |     LR |   Batch |   Val_RMSE |\n",
      "|:--------|:---------|----------:|-------:|--------:|-----------:|\n",
      "| LSTM    | (64, 32) |      0.25 | 0.001  |      32 |    102.871 |\n",
      "| BiLSTM  | (64, 32) |      0.3  | 0.001  |      32 |    108.614 |\n",
      "| BiLSTM  | (64, 32) |      0.25 | 0.001  |      32 |    109.116 |\n",
      "| BiLSTM  | (64, 32) |      0.25 | 0.0005 |      32 |    109.285 |\n",
      "| GRU     | (64, 32) |      0.25 | 0.001  |      32 |    110.666 |\n",
      "| BiLSTM  | (32, 16) |      0.3  | 0.001  |      32 |    110.787 |\n",
      "| GRU     | (64, 32) |      0.3  | 0.0005 |      32 |    112.956 |\n",
      "| GRU     | (32, 16) |      0.25 | 0.001  |      32 |    113.226 |\n",
      "| GRU     | (64, 32) |      0.25 | 0.001  |      64 |    113.324 |\n",
      "| BiLSTM  | (32, 16) |      0.3  | 0.001  |      64 |    115.157 |\n",
      "| BiLSTM  | (64, 32) |      0.3  | 0.001  |      64 |    115.2   |\n",
      "| GRU     | (64, 32) |      0.3  | 0.001  |      32 |    115.378 |\n",
      "| GRU     | (64, 32) |      0.3  | 0.001  |      64 |    115.815 |\n",
      "| BiLSTM  | (64, 32) |      0.25 | 0.001  |      64 |    116.291 |\n",
      "| BiLSTM  | (32, 16) |      0.25 | 0.001  |      32 |    116.502 |\n"
     ]
    }
   ],
   "source": [
    "import itertools\n",
    "from math import sqrt\n",
    "import pandas as pd\n",
    "from tensorflow.keras.callbacks import EarlyStopping\n",
    "from sklearn.metrics import mean_squared_error\n",
    "\n",
    "# -------------------------------\n",
    "# Hyperparameter options (expanded for 15+ experiments)\n",
    "# -------------------------------\n",
    "unit_options = [(32, 16), (64, 32)]          # 2 choices\n",
    "dropout_options = [0.25, 0.3]                # 2 choices\n",
    "lr_options = [1e-3, 5e-4]                    # 2 choices\n",
    "batch_options = [32, 64]                     # 2 choices\n",
    "EPOCHS_FAST = 5                               # small for speed\n",
    "PATIENCE = 2                                  # EarlyStopping patience\n",
    "\n",
    "# -------------------------------\n",
    "# Optional: use subset of data to speed up\n",
    "# -------------------------------\n",
    "subset = 1000  # adjust as needed\n",
    "X_tr_small = X_tr[:subset]\n",
    "y_tr_small = y_tr[:subset]\n",
    "X_val_small = X_val[:subset//5]\n",
    "y_val_small = y_val[:subset//5]\n",
    "\n",
    "# -------------------------------\n",
    "# Train one experiment\n",
    "# -------------------------------\n",
    "def train_one_experiment(args):\n",
    "    model_name, builder, units, dropout, lr, batch = args\n",
    "    model = builder(input_shape, units=units, dropout=dropout, lr=lr)\n",
    "    \n",
    "    # EarlyStopping only\n",
    "    es = EarlyStopping(monitor='val_loss', patience=PATIENCE, restore_best_weights=True, verbose=0)\n",
    "    \n",
    "    # Train\n",
    "    model.fit(\n",
    "        X_tr_small, y_tr_small,\n",
    "        validation_data=(X_val_small, y_val_small),\n",
    "        epochs=EPOCHS_FAST,\n",
    "        batch_size=batch,\n",
    "        callbacks=[es],\n",
    "        verbose=0\n",
    "    )\n",
    "    \n",
    "    # Predict & compute RMSE\n",
    "    y_val_pred_scaled = model.predict(X_val_small).flatten()\n",
    "    y_val_pred = y_scaler.inverse_transform(y_val_pred_scaled.reshape(-1,1)).flatten()\n",
    "    y_val_true = y_scaler.inverse_transform(y_val_small.reshape(-1,1)).flatten()\n",
    "    \n",
    "    rmse_val = sqrt(mean_squared_error(y_val_true, y_val_pred))\n",
    "    print(f\"{model_name} | Units:{units} Dropout:{dropout} LR:{lr} Batch:{batch} => Val RMSE: {rmse_val:.2f}\")\n",
    "    \n",
    "    return {'Model': model_name, 'Units': units, 'Dropout': dropout, 'LR': lr, 'Batch': batch, 'Val_RMSE': rmse_val}\n",
    "\n",
    "# -------------------------------\n",
    "# Build all parameter combinations\n",
    "# -------------------------------\n",
    "params_list = [\n",
    "    (model_name, builder, units, dropout, lr, batch)\n",
    "    for model_name, builder in model_builders.items()\n",
    "    for units, dropout, lr, batch in itertools.product(unit_options, dropout_options, lr_options, batch_options)\n",
    "]\n",
    "\n",
    "# -------------------------------\n",
    "# Run experiments (single-threaded for Windows safety)\n",
    "# -------------------------------\n",
    "results = [train_one_experiment(params) for params in params_list]\n",
    "\n",
    "# -------------------------------\n",
    "# Collect results\n",
    "# -------------------------------\n",
    "results_df = pd.DataFrame(results).sort_values('Val_RMSE').reset_index(drop=True)\n",
    "\n",
    "# Show top 15 experiments\n",
    "print(results_df.head(15).to_markdown(index=False))\n",
    "\n",
    "# Save top 15 experiments\n",
    "results_df.head(15).to_csv('top_15_experiments.csv', index=False)\n"
   ]
  },
  {
   "cell_type": "code",
   "execution_count": 32,
   "id": "57b84e34",
   "metadata": {},
   "outputs": [
    {
     "name": "stdout",
     "output_type": "stream",
     "text": [
      "| Model   | Units    |   Dropout |    LR |   Batch |   Val_RMSE |\n",
      "|:--------|:---------|----------:|------:|--------:|-----------:|\n",
      "| GRU     | (32, 16) |      0.25 | 0.001 |      32 |    113.759 |\n",
      "| BiLSTM  | (32, 16) |      0.25 | 0.001 |      32 |    114.08  |\n",
      "| LSTM    | (32, 16) |      0.25 | 0.001 |      32 |    125.87  |\n"
     ]
    }
   ],
   "source": [
    "print(results_df.head(15).to_markdown(index=False))\n",
    "results_df.head(15).to_csv('top_15_experiments.csv', index=False)\n"
   ]
  },
  {
   "cell_type": "markdown",
   "id": "ab73d02b",
   "metadata": {},
   "source": [
    "Conclusion\n",
    "\n",
    "This project applied LSTM-based models to forecast air quality, aiming to reduce RMSE. Through preprocessing, feature scaling, and sequence creation, the models captured temporal patterns effectively. Experiments with different hyperparameters showed that deeper LSTM/GRU architectures performed best. While predictions closely matched actual values, challenges like overfitting and vanishing gradients remain. Future work could explore hybrid or attention-based models for improved accuracy."
   ]
  }
 ],
 "metadata": {
  "kernelspec": {
   "display_name": "Python 3",
   "language": "python",
   "name": "python3"
  },
  "language_info": {
   "codemirror_mode": {
    "name": "ipython",
    "version": 3
   },
   "file_extension": ".py",
   "mimetype": "text/x-python",
   "name": "python",
   "nbconvert_exporter": "python",
   "pygments_lexer": "ipython3",
   "version": "3.12.4"
  }
 },
 "nbformat": 4,
 "nbformat_minor": 5
}
